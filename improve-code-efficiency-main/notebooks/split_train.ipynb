{
 "cells": [
  {
   "cell_type": "code",
   "execution_count": 1,
   "metadata": {},
   "outputs": [
    {
     "ename": "ImportError",
     "evalue": "Unable to import required dependencies:\nnumpy: No module named 'numpy'",
     "output_type": "error",
     "traceback": [
      "\u001b[0;31m---------------------------------------------------------------------------\u001b[0m",
      "\u001b[0;31mImportError\u001b[0m                               Traceback (most recent call last)",
      "Cell \u001b[0;32mIn[1], line 1\u001b[0m\n\u001b[0;32m----> 1\u001b[0m \u001b[38;5;28;01mimport\u001b[39;00m \u001b[38;5;21;01mpandas\u001b[39;00m \u001b[38;5;28;01mas\u001b[39;00m \u001b[38;5;21;01mpd\u001b[39;00m\n",
      "File \u001b[0;32m~/.local/lib/python3.9/site-packages/pandas/__init__.py:16\u001b[0m\n\u001b[1;32m     13\u001b[0m         _missing_dependencies\u001b[38;5;241m.\u001b[39mappend(\u001b[38;5;124mf\u001b[39m\u001b[38;5;124m\"\u001b[39m\u001b[38;5;132;01m{\u001b[39;00m_dependency\u001b[38;5;132;01m}\u001b[39;00m\u001b[38;5;124m: \u001b[39m\u001b[38;5;132;01m{\u001b[39;00m_e\u001b[38;5;132;01m}\u001b[39;00m\u001b[38;5;124m\"\u001b[39m)\n\u001b[1;32m     15\u001b[0m \u001b[38;5;28;01mif\u001b[39;00m _missing_dependencies:  \u001b[38;5;66;03m# pragma: no cover\u001b[39;00m\n\u001b[0;32m---> 16\u001b[0m     \u001b[38;5;28;01mraise\u001b[39;00m \u001b[38;5;167;01mImportError\u001b[39;00m(\n\u001b[1;32m     17\u001b[0m         \u001b[38;5;124m\"\u001b[39m\u001b[38;5;124mUnable to import required dependencies:\u001b[39m\u001b[38;5;130;01m\\n\u001b[39;00m\u001b[38;5;124m\"\u001b[39m \u001b[38;5;241m+\u001b[39m \u001b[38;5;124m\"\u001b[39m\u001b[38;5;130;01m\\n\u001b[39;00m\u001b[38;5;124m\"\u001b[39m\u001b[38;5;241m.\u001b[39mjoin(_missing_dependencies)\n\u001b[1;32m     18\u001b[0m     )\n\u001b[1;32m     19\u001b[0m \u001b[38;5;28;01mdel\u001b[39;00m _hard_dependencies, _dependency, _missing_dependencies\n\u001b[1;32m     21\u001b[0m \u001b[38;5;28;01mtry\u001b[39;00m:\n\u001b[1;32m     22\u001b[0m     \u001b[38;5;66;03m# numpy compat\u001b[39;00m\n",
      "\u001b[0;31mImportError\u001b[0m: Unable to import required dependencies:\nnumpy: No module named 'numpy'"
     ]
    }
   ],
   "source": [
    "import pandas as pd"
   ]
  },
  {
   "cell_type": "code",
   "execution_count": 3,
   "metadata": {},
   "outputs": [],
   "source": [
    "df = pd.read_json('/data/tir/projects/tir6/general/swaghjal/trajectories/trajectories_per_id_full_with_2to3_filtered.jsonl',orient='records',lines=True,)"
   ]
  },
  {
   "cell_type": "code",
   "execution_count": 4,
   "metadata": {},
   "outputs": [
    {
     "data": {
      "text/html": [
       "<div>\n",
       "<style scoped>\n",
       "    .dataframe tbody tr th:only-of-type {\n",
       "        vertical-align: middle;\n",
       "    }\n",
       "\n",
       "    .dataframe tbody tr th {\n",
       "        vertical-align: top;\n",
       "    }\n",
       "\n",
       "    .dataframe thead th {\n",
       "        text-align: right;\n",
       "    }\n",
       "</style>\n",
       "<table border=\"1\" class=\"dataframe\">\n",
       "  <thead>\n",
       "    <tr style=\"text-align: right;\">\n",
       "      <th></th>\n",
       "      <th>problem_id</th>\n",
       "      <th>trajectories</th>\n",
       "      <th>submission_id</th>\n",
       "      <th>status</th>\n",
       "      <th>cpu_time</th>\n",
       "      <th>memory</th>\n",
       "      <th>code_size</th>\n",
       "      <th>accuracy</th>\n",
       "      <th>trajectories_length</th>\n",
       "      <th>total_submissions</th>\n",
       "    </tr>\n",
       "  </thead>\n",
       "  <tbody>\n",
       "    <tr>\n",
       "      <th>0</th>\n",
       "      <td>p02764</td>\n",
       "      <td>[# 多くても 3 つがぎりぎり焼ける位置\\nfrom math import acos\\n...</td>\n",
       "      <td>[s187035666, s210564345, s488176420, s30629961...</td>\n",
       "      <td>[Accepted, Accepted, Accepted, Accepted, Accep...</td>\n",
       "      <td>[483.0, 697.0, 708.0, 678.0, 477.0, 474.0, 454...</td>\n",
       "      <td>[9876.0, 49756.0, 49720.0, 49852.0, 81260.0, 8...</td>\n",
       "      <td>[1909, 463, 474, 619, 2461, 2461, 2461, 1914, ...</td>\n",
       "      <td>[None, None, None, None, None, None, None, Non...</td>\n",
       "      <td>70</td>\n",
       "      <td>70</td>\n",
       "    </tr>\n",
       "    <tr>\n",
       "      <th>1</th>\n",
       "      <td>p03683</td>\n",
       "      <td>[import math\\n\\nn, m = list(map(int, input().s...</td>\n",
       "      <td>[s592440261, s598698942, s061052145, s17649623...</td>\n",
       "      <td>[Accepted, Accepted, Accepted, Accepted, Accep...</td>\n",
       "      <td>[421.0, 162.0, 285.0, 421.0, 422.0, 63.0, 68.0...</td>\n",
       "      <td>[11056.0, 92096.0, 83840.0, 11028.0, 11064.0, ...</td>\n",
       "      <td>[242, 1024, 235, 228, 245, 278, 342, 434, 281,...</td>\n",
       "      <td>[None, None, None, None, None, None, None, Non...</td>\n",
       "      <td>176</td>\n",
       "      <td>176</td>\n",
       "    </tr>\n",
       "    <tr>\n",
       "      <th>2</th>\n",
       "      <td>p00031</td>\n",
       "      <td>[import sys\\nfor line in sys.stdin:\\n    l = b...</td>\n",
       "      <td>[s742332617, s171580963, s369625027, s20104061...</td>\n",
       "      <td>[Accepted, Accepted, Accepted, Accepted, Accep...</td>\n",
       "      <td>[20, 10, 30, 10, 30, 10, 20, 10, 30, 30, 10, 3...</td>\n",
       "      <td>[5612, 4336, 6720, 4200, 6716, 4204, 4184, 418...</td>\n",
       "      <td>[188, 314, 145, 230, 281, 254, 95, 95, 1024, 3...</td>\n",
       "      <td>[1/1, 1/1, 1/1, 1/1, 1/1, 1/1, 1/1, 1/1, 1/1, ...</td>\n",
       "      <td>118</td>\n",
       "      <td>118</td>\n",
       "    </tr>\n",
       "    <tr>\n",
       "      <th>3</th>\n",
       "      <td>p03545</td>\n",
       "      <td>[#!/usr/bin/env python3\\nimport itertools\\nimp...</td>\n",
       "      <td>[s582363031, s263176583, s989169057, s74104332...</td>\n",
       "      <td>[Accepted, Accepted, Accepted, Accepted, Accep...</td>\n",
       "      <td>[25.0, 26.0, 26.0, 25.0, 27.0, 25.0, 30.0, 30....</td>\n",
       "      <td>[9072.0, 9080.0, 9100.0, 8984.0, 9032.0, 9124....</td>\n",
       "      <td>[399, 391, 322, 223, 212, 598, 445, 452, 684, ...</td>\n",
       "      <td>[None, None, None, None, None, None, None, Non...</td>\n",
       "      <td>3681</td>\n",
       "      <td>3681</td>\n",
       "    </tr>\n",
       "    <tr>\n",
       "      <th>4</th>\n",
       "      <td>p03937</td>\n",
       "      <td>[from collections import deque\\n\\nH, W = list(...</td>\n",
       "      <td>[s932462923, s782560724, s326018883, s61547983...</td>\n",
       "      <td>[Accepted, Accepted, Accepted, Accepted, Accep...</td>\n",
       "      <td>[101.0, 26.0, 41.0, 27.0, 80.0, 30.0, 26.0, 29...</td>\n",
       "      <td>[65040.0, 9180.0, 9344.0, 9464.0, 67264.0, 915...</td>\n",
       "      <td>[692, 847, 1407, 1166, 552, 681, 939, 680, 201...</td>\n",
       "      <td>[None, None, None, None, None, None, None, Non...</td>\n",
       "      <td>849</td>\n",
       "      <td>849</td>\n",
       "    </tr>\n",
       "  </tbody>\n",
       "</table>\n",
       "</div>"
      ],
      "text/plain": [
       "  problem_id                                       trajectories  \\\n",
       "0     p02764  [# 多くても 3 つがぎりぎり焼ける位置\\nfrom math import acos\\n...   \n",
       "1     p03683  [import math\\n\\nn, m = list(map(int, input().s...   \n",
       "2     p00031  [import sys\\nfor line in sys.stdin:\\n    l = b...   \n",
       "3     p03545  [#!/usr/bin/env python3\\nimport itertools\\nimp...   \n",
       "4     p03937  [from collections import deque\\n\\nH, W = list(...   \n",
       "\n",
       "                                       submission_id  \\\n",
       "0  [s187035666, s210564345, s488176420, s30629961...   \n",
       "1  [s592440261, s598698942, s061052145, s17649623...   \n",
       "2  [s742332617, s171580963, s369625027, s20104061...   \n",
       "3  [s582363031, s263176583, s989169057, s74104332...   \n",
       "4  [s932462923, s782560724, s326018883, s61547983...   \n",
       "\n",
       "                                              status  \\\n",
       "0  [Accepted, Accepted, Accepted, Accepted, Accep...   \n",
       "1  [Accepted, Accepted, Accepted, Accepted, Accep...   \n",
       "2  [Accepted, Accepted, Accepted, Accepted, Accep...   \n",
       "3  [Accepted, Accepted, Accepted, Accepted, Accep...   \n",
       "4  [Accepted, Accepted, Accepted, Accepted, Accep...   \n",
       "\n",
       "                                            cpu_time  \\\n",
       "0  [483.0, 697.0, 708.0, 678.0, 477.0, 474.0, 454...   \n",
       "1  [421.0, 162.0, 285.0, 421.0, 422.0, 63.0, 68.0...   \n",
       "2  [20, 10, 30, 10, 30, 10, 20, 10, 30, 30, 10, 3...   \n",
       "3  [25.0, 26.0, 26.0, 25.0, 27.0, 25.0, 30.0, 30....   \n",
       "4  [101.0, 26.0, 41.0, 27.0, 80.0, 30.0, 26.0, 29...   \n",
       "\n",
       "                                              memory  \\\n",
       "0  [9876.0, 49756.0, 49720.0, 49852.0, 81260.0, 8...   \n",
       "1  [11056.0, 92096.0, 83840.0, 11028.0, 11064.0, ...   \n",
       "2  [5612, 4336, 6720, 4200, 6716, 4204, 4184, 418...   \n",
       "3  [9072.0, 9080.0, 9100.0, 8984.0, 9032.0, 9124....   \n",
       "4  [65040.0, 9180.0, 9344.0, 9464.0, 67264.0, 915...   \n",
       "\n",
       "                                           code_size  \\\n",
       "0  [1909, 463, 474, 619, 2461, 2461, 2461, 1914, ...   \n",
       "1  [242, 1024, 235, 228, 245, 278, 342, 434, 281,...   \n",
       "2  [188, 314, 145, 230, 281, 254, 95, 95, 1024, 3...   \n",
       "3  [399, 391, 322, 223, 212, 598, 445, 452, 684, ...   \n",
       "4  [692, 847, 1407, 1166, 552, 681, 939, 680, 201...   \n",
       "\n",
       "                                            accuracy  trajectories_length  \\\n",
       "0  [None, None, None, None, None, None, None, Non...                   70   \n",
       "1  [None, None, None, None, None, None, None, Non...                  176   \n",
       "2  [1/1, 1/1, 1/1, 1/1, 1/1, 1/1, 1/1, 1/1, 1/1, ...                  118   \n",
       "3  [None, None, None, None, None, None, None, Non...                 3681   \n",
       "4  [None, None, None, None, None, None, None, Non...                  849   \n",
       "\n",
       "   total_submissions  \n",
       "0                 70  \n",
       "1                176  \n",
       "2                118  \n",
       "3               3681  \n",
       "4                849  "
      ]
     },
     "execution_count": 4,
     "metadata": {},
     "output_type": "execute_result"
    }
   ],
   "source": [
    "df.head()"
   ]
  },
  {
   "cell_type": "code",
   "execution_count": 8,
   "metadata": {},
   "outputs": [
    {
     "data": {
      "text/html": [
       "<div>\n",
       "<style scoped>\n",
       "    .dataframe tbody tr th:only-of-type {\n",
       "        vertical-align: middle;\n",
       "    }\n",
       "\n",
       "    .dataframe tbody tr th {\n",
       "        vertical-align: top;\n",
       "    }\n",
       "\n",
       "    .dataframe thead th {\n",
       "        text-align: right;\n",
       "    }\n",
       "</style>\n",
       "<table border=\"1\" class=\"dataframe\">\n",
       "  <thead>\n",
       "    <tr style=\"text-align: right;\">\n",
       "      <th></th>\n",
       "      <th>trajectories_length</th>\n",
       "      <th>total_submissions</th>\n",
       "    </tr>\n",
       "  </thead>\n",
       "  <tbody>\n",
       "    <tr>\n",
       "      <th>count</th>\n",
       "      <td>1180.000000</td>\n",
       "      <td>1180.000000</td>\n",
       "    </tr>\n",
       "    <tr>\n",
       "      <th>mean</th>\n",
       "      <td>1491.702542</td>\n",
       "      <td>1491.702542</td>\n",
       "    </tr>\n",
       "    <tr>\n",
       "      <th>std</th>\n",
       "      <td>1344.296769</td>\n",
       "      <td>1344.296769</td>\n",
       "    </tr>\n",
       "    <tr>\n",
       "      <th>min</th>\n",
       "      <td>101.000000</td>\n",
       "      <td>101.000000</td>\n",
       "    </tr>\n",
       "    <tr>\n",
       "      <th>25%</th>\n",
       "      <td>328.250000</td>\n",
       "      <td>328.250000</td>\n",
       "    </tr>\n",
       "    <tr>\n",
       "      <th>50%</th>\n",
       "      <td>1014.500000</td>\n",
       "      <td>1014.500000</td>\n",
       "    </tr>\n",
       "    <tr>\n",
       "      <th>75%</th>\n",
       "      <td>2347.750000</td>\n",
       "      <td>2347.750000</td>\n",
       "    </tr>\n",
       "    <tr>\n",
       "      <th>max</th>\n",
       "      <td>8020.000000</td>\n",
       "      <td>8020.000000</td>\n",
       "    </tr>\n",
       "  </tbody>\n",
       "</table>\n",
       "</div>"
      ],
      "text/plain": [
       "       trajectories_length  total_submissions\n",
       "count          1180.000000        1180.000000\n",
       "mean           1491.702542        1491.702542\n",
       "std            1344.296769        1344.296769\n",
       "min             101.000000         101.000000\n",
       "25%             328.250000         328.250000\n",
       "50%            1014.500000        1014.500000\n",
       "75%            2347.750000        2347.750000\n",
       "max            8020.000000        8020.000000"
      ]
     },
     "execution_count": 8,
     "metadata": {},
     "output_type": "execute_result"
    }
   ],
   "source": [
    "filtered_df = df[df['trajectories_length'] > 100]\n",
    "filtered_df.describe()"
   ]
  },
  {
   "cell_type": "code",
   "execution_count": null,
   "metadata": {},
   "outputs": [],
   "source": []
  },
  {
   "cell_type": "code",
   "execution_count": 6,
   "metadata": {},
   "outputs": [],
   "source": [
    "part_size = len(filtered_df) // 10\n",
    "\n",
    "# Split the DataFrame into 6 parts\n",
    "parts = [filtered_df.iloc[i:i+part_size] for i in range(0, len(filtered_df), part_size)]\n",
    "\n",
    "# Save each part as a separate JSONL file\n",
    "for i, part_df in enumerate(parts, start=1):\n",
    "    part_df.to_json(f'/data/tir/projects/tir6/general/swaghjal/trajectories/trajectories_gt_100_part_{i}.jsonl', orient='records', lines=True)"
   ]
  },
  {
   "cell_type": "code",
   "execution_count": 8,
   "metadata": {},
   "outputs": [],
   "source": [
    "trajectories['trajectories_length'] = trajectories['trajectories'].apply(lambda x: len(x))"
   ]
  },
  {
   "cell_type": "code",
   "execution_count": 10,
   "metadata": {},
   "outputs": [
    {
     "data": {
      "text/plain": [
       "count    221722.000000\n",
       "mean          1.082437\n",
       "std           0.369961\n",
       "min           1.000000\n",
       "25%           1.000000\n",
       "50%           1.000000\n",
       "75%           1.000000\n",
       "max          16.000000\n",
       "Name: trajectories_length, dtype: float64"
      ]
     },
     "execution_count": 10,
     "metadata": {},
     "output_type": "execute_result"
    }
   ],
   "source": [
    "trajectories['trajectories_length'].describe()"
   ]
  },
  {
   "cell_type": "code",
   "execution_count": 11,
   "metadata": {},
   "outputs": [
    {
     "name": "stdout",
     "output_type": "stream",
     "text": [
      "Row with max trajectory length:\n",
      "user_id                                                       u312025627\n",
      "problem_id                                                        p02618\n",
      "trajectories           [from random import randint, random, seed\\nfro...\n",
      "submission_id          [s317784974, s903697509, s552340714, s92224202...\n",
      "status                 [Accepted, Accepted, Accepted, Accepted, Accep...\n",
      "cpu_time               [1955.0, 1818.0, 1927.0, 1532.0, 1880.0, 1919....\n",
      "memory                 [88764.0, 88256.0, 91848.0, 93032.0, 91944.0, ...\n",
      "code_size              [4232, 4955, 4973, 5012, 4362, 4214, 4176, 401...\n",
      "accuracy               [None, None, None, None, None, None, None, Non...\n",
      "original_language                                          PyPy3 (7.3.0)\n",
      "trajectories_length                                                   16\n",
      "Name: 27187, dtype: object\n"
     ]
    }
   ],
   "source": [
    "max_length_index = trajectories['trajectories_length'].idxmax()\n",
    "\n",
    "# Get the row with the maximum trajectory length\n",
    "row_with_max_length = trajectories.loc[max_length_index]\n",
    "\n",
    "# Print or use the row as needed\n",
    "print(\"Row with max trajectory length:\")\n",
    "print(row_with_max_length)"
   ]
  },
  {
   "cell_type": "code",
   "execution_count": 12,
   "metadata": {},
   "outputs": [
    {
     "data": {
      "text/plain": [
       "user_id                                                       u312025627\n",
       "problem_id                                                        p02618\n",
       "trajectories           [from random import randint, random, seed\\nfro...\n",
       "submission_id          [s317784974, s903697509, s552340714, s92224202...\n",
       "status                 [Accepted, Accepted, Accepted, Accepted, Accep...\n",
       "cpu_time               [1955.0, 1818.0, 1927.0, 1532.0, 1880.0, 1919....\n",
       "memory                 [88764.0, 88256.0, 91848.0, 93032.0, 91944.0, ...\n",
       "code_size              [4232, 4955, 4973, 5012, 4362, 4214, 4176, 401...\n",
       "accuracy               [None, None, None, None, None, None, None, Non...\n",
       "original_language                                          PyPy3 (7.3.0)\n",
       "trajectories_length                                                   16\n",
       "Name: 27187, dtype: object"
      ]
     },
     "execution_count": 12,
     "metadata": {},
     "output_type": "execute_result"
    }
   ],
   "source": [
    "trajectories.iloc[max_length_index]"
   ]
  },
  {
   "cell_type": "code",
   "execution_count": 1,
   "metadata": {},
   "outputs": [
    {
     "ename": "NameError",
     "evalue": "name 'trajectories' is not defined",
     "output_type": "error",
     "traceback": [
      "\u001b[0;31m---------------------------------------------------------------------------\u001b[0m",
      "\u001b[0;31mNameError\u001b[0m                                 Traceback (most recent call last)",
      "Cell \u001b[0;32mIn[1], line 3\u001b[0m\n\u001b[1;32m      1\u001b[0m \u001b[38;5;28;01mfrom\u001b[39;00m \u001b[38;5;21;01mtqdm\u001b[39;00m \u001b[38;5;28;01mimport\u001b[39;00m tqdm\n\u001b[1;32m      2\u001b[0m tqdm\u001b[38;5;241m.\u001b[39mpandas()\n\u001b[0;32m----> 3\u001b[0m trajectories[\u001b[38;5;124m'\u001b[39m\u001b[38;5;124mtrajectories\u001b[39m\u001b[38;5;124m'\u001b[39m] \u001b[38;5;241m=\u001b[39m \u001b[43mtrajectories\u001b[49m[\u001b[38;5;124m'\u001b[39m\u001b[38;5;124mtrajectories\u001b[39m\u001b[38;5;124m'\u001b[39m]\u001b[38;5;241m.\u001b[39mapply(\u001b[38;5;28;01mlambda\u001b[39;00m lst: [convert_2to3(script) \u001b[38;5;28;01mfor\u001b[39;00m script \u001b[38;5;129;01min\u001b[39;00m lst])\n",
      "\u001b[0;31mNameError\u001b[0m: name 'trajectories' is not defined"
     ]
    }
   ],
   "source": [
    "from tqdm import tqdm\n",
    "tqdm.pandas()\n",
    "trajectories['trajectories'] = trajectories['trajectories'].apply(lambda lst: [convert_2to3(script) for script in lst])\n"
   ]
  },
  {
   "cell_type": "code",
   "execution_count": null,
   "metadata": {},
   "outputs": [],
   "source": []
  }
 ],
 "metadata": {
  "kernelspec": {
   "display_name": "venv",
   "language": "python",
   "name": "python3"
  },
  "language_info": {
   "codemirror_mode": {
    "name": "ipython",
    "version": 3
   },
   "file_extension": ".py",
   "mimetype": "text/x-python",
   "name": "python",
   "nbconvert_exporter": "python",
   "pygments_lexer": "ipython3",
   "version": "3.9.19"
  }
 },
 "nbformat": 4,
 "nbformat_minor": 2
}
