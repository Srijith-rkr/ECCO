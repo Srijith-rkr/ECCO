{
 "cells": [
  {
   "cell_type": "code",
   "execution_count": null,
   "metadata": {},
   "outputs": [],
   "source": [
    "from vllm import LLM, SamplingParams\n",
    "hugging_cache = os.environ.get('HF_HOME')\n",
    "model_path = 'swaghjal/trial_finetuned_test'\n",
    "llm = LLM(model_path, tensor_parallel_size=1, dtype='float16', download_dir=hugging_cache)\n",
    "generated_codes = llm.generate(\n",
    "    prompts_all,\n",
    "    SamplingParams(\n",
    "        n=args.num_samples,\n",
    "        max_tokens=args.max_new_tokens, \n",
    "        temperature=args.temperature\n",
    "    )\n",
    ")\n",
    "for output in generated_codes:\n",
    "for out in output.outputs:\n",
    "        generated_text = out.text.strip()"
   ]
  }
 ],
 "metadata": {
  "kernelspec": {
   "display_name": "venv",
   "language": "python",
   "name": "python3"
  },
  "language_info": {
   "name": "python",
   "version": "3.9.18"
  }
 },
 "nbformat": 4,
 "nbformat_minor": 2
}
