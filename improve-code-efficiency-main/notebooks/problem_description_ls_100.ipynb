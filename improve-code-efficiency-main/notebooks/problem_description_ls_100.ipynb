{
 "cells": [
  {
   "cell_type": "code",
   "execution_count": 1,
   "metadata": {},
   "outputs": [],
   "source": [
    "import pandas as pd"
   ]
  },
  {
   "cell_type": "code",
   "execution_count": 2,
   "metadata": {},
   "outputs": [],
   "source": [
    "problem_desc = pd.read_json(\"/data/tir/projects/tir6/general/vveerend/improving-code-efficiency/shared/data/problem_description.jsonl\",orient='records',lines=True)"
   ]
  },
  {
   "cell_type": "code",
   "execution_count": 3,
   "metadata": {},
   "outputs": [
    {
     "data": {
      "text/html": [
       "<div>\n",
       "<style scoped>\n",
       "    .dataframe tbody tr th:only-of-type {\n",
       "        vertical-align: middle;\n",
       "    }\n",
       "\n",
       "    .dataframe tbody tr th {\n",
       "        vertical-align: top;\n",
       "    }\n",
       "\n",
       "    .dataframe thead th {\n",
       "        text-align: right;\n",
       "    }\n",
       "</style>\n",
       "<table border=\"1\" class=\"dataframe\">\n",
       "  <thead>\n",
       "    <tr style=\"text-align: right;\">\n",
       "      <th></th>\n",
       "      <th>problem_id</th>\n",
       "      <th>problem_description</th>\n",
       "    </tr>\n",
       "  </thead>\n",
       "  <tbody>\n",
       "    <tr>\n",
       "      <th>0</th>\n",
       "      <td>p00000</td>\n",
       "      <td>Problem Name: QQ\\nProblem Description: Write a...</td>\n",
       "    </tr>\n",
       "    <tr>\n",
       "      <th>1</th>\n",
       "      <td>p00001</td>\n",
       "      <td>Problem Name: List of Top 3 Hills\\nProblem Des...</td>\n",
       "    </tr>\n",
       "    <tr>\n",
       "      <th>2</th>\n",
       "      <td>p00002</td>\n",
       "      <td>Problem Name: Digit Number\\nProblem Descriptio...</td>\n",
       "    </tr>\n",
       "    <tr>\n",
       "      <th>3</th>\n",
       "      <td>p00003</td>\n",
       "      <td>Problem Name: Is it a Right Triangle?\\nProblem...</td>\n",
       "    </tr>\n",
       "    <tr>\n",
       "      <th>4</th>\n",
       "      <td>p00004</td>\n",
       "      <td>Problem Name: Simultaneous Equation\\nProblem D...</td>\n",
       "    </tr>\n",
       "    <tr>\n",
       "      <th>...</th>\n",
       "      <td>...</td>\n",
       "      <td>...</td>\n",
       "    </tr>\n",
       "    <tr>\n",
       "      <th>3994</th>\n",
       "      <td>p04048</td>\n",
       "      <td>Problem Description: Score : 500 points\\nProbl...</td>\n",
       "    </tr>\n",
       "    <tr>\n",
       "      <th>3995</th>\n",
       "      <td>p04049</td>\n",
       "      <td>Problem Description: Score : 600 points\\nProbl...</td>\n",
       "    </tr>\n",
       "    <tr>\n",
       "      <th>3996</th>\n",
       "      <td>p04050</td>\n",
       "      <td>Problem Description: Score : 1000 points\\nProb...</td>\n",
       "    </tr>\n",
       "    <tr>\n",
       "      <th>3997</th>\n",
       "      <td>p04051</td>\n",
       "      <td>Problem Description: Score : 1400 points\\nProb...</td>\n",
       "    </tr>\n",
       "    <tr>\n",
       "      <th>3998</th>\n",
       "      <td>p04052</td>\n",
       "      <td>Problem Description: Score : 2000 points\\nProb...</td>\n",
       "    </tr>\n",
       "  </tbody>\n",
       "</table>\n",
       "<p>3999 rows × 2 columns</p>\n",
       "</div>"
      ],
      "text/plain": [
       "     problem_id                                problem_description\n",
       "0        p00000  Problem Name: QQ\\nProblem Description: Write a...\n",
       "1        p00001  Problem Name: List of Top 3 Hills\\nProblem Des...\n",
       "2        p00002  Problem Name: Digit Number\\nProblem Descriptio...\n",
       "3        p00003  Problem Name: Is it a Right Triangle?\\nProblem...\n",
       "4        p00004  Problem Name: Simultaneous Equation\\nProblem D...\n",
       "...         ...                                                ...\n",
       "3994     p04048  Problem Description: Score : 500 points\\nProbl...\n",
       "3995     p04049  Problem Description: Score : 600 points\\nProbl...\n",
       "3996     p04050  Problem Description: Score : 1000 points\\nProb...\n",
       "3997     p04051  Problem Description: Score : 1400 points\\nProb...\n",
       "3998     p04052  Problem Description: Score : 2000 points\\nProb...\n",
       "\n",
       "[3999 rows x 2 columns]"
      ]
     },
     "execution_count": 3,
     "metadata": {},
     "output_type": "execute_result"
    }
   ],
   "source": [
    "problem_desc"
   ]
  },
  {
   "cell_type": "code",
   "execution_count": 4,
   "metadata": {},
   "outputs": [],
   "source": [
    "trajectories = pd.read_json('/data/tir/projects/tir6/general/swaghjal/trajectories_per_id_filtered_lt_100.jsonl',orient='records',lines=True)"
   ]
  },
  {
   "cell_type": "code",
   "execution_count": 6,
   "metadata": {},
   "outputs": [],
   "source": [
    "uniques = trajectories['problem_id'].unique()"
   ]
  },
  {
   "cell_type": "code",
   "execution_count": 8,
   "metadata": {},
   "outputs": [
    {
     "data": {
      "text/plain": [
       "1933"
      ]
     },
     "execution_count": 8,
     "metadata": {},
     "output_type": "execute_result"
    }
   ],
   "source": [
    "len(uniques)"
   ]
  },
  {
   "cell_type": "code",
   "execution_count": 9,
   "metadata": {},
   "outputs": [],
   "source": [
    "filtered_df = problem_desc[problem_desc['problem_id'].isin(uniques)]"
   ]
  },
  {
   "cell_type": "code",
   "execution_count": 10,
   "metadata": {},
   "outputs": [
    {
     "data": {
      "text/html": [
       "<div>\n",
       "<style scoped>\n",
       "    .dataframe tbody tr th:only-of-type {\n",
       "        vertical-align: middle;\n",
       "    }\n",
       "\n",
       "    .dataframe tbody tr th {\n",
       "        vertical-align: top;\n",
       "    }\n",
       "\n",
       "    .dataframe thead th {\n",
       "        text-align: right;\n",
       "    }\n",
       "</style>\n",
       "<table border=\"1\" class=\"dataframe\">\n",
       "  <thead>\n",
       "    <tr style=\"text-align: right;\">\n",
       "      <th></th>\n",
       "      <th>problem_id</th>\n",
       "      <th>problem_description</th>\n",
       "    </tr>\n",
       "  </thead>\n",
       "  <tbody>\n",
       "    <tr>\n",
       "      <th>23</th>\n",
       "      <td>p00023</td>\n",
       "      <td>Problem Name: Circles Intersection\\nProblem De...</td>\n",
       "    </tr>\n",
       "    <tr>\n",
       "      <th>26</th>\n",
       "      <td>p00026</td>\n",
       "      <td>Problem Name: Dropping Ink\\nProblem Descriptio...</td>\n",
       "    </tr>\n",
       "    <tr>\n",
       "      <th>34</th>\n",
       "      <td>p00034</td>\n",
       "      <td>Problem Name: Railway Lines\\nProblem Descripti...</td>\n",
       "    </tr>\n",
       "    <tr>\n",
       "      <th>35</th>\n",
       "      <td>p00035</td>\n",
       "      <td>Problem Name: Convex?\\nProblem Description: Cr...</td>\n",
       "    </tr>\n",
       "    <tr>\n",
       "      <th>36</th>\n",
       "      <td>p00036</td>\n",
       "      <td>Problem Name: 2D Shapes on a Plane\\nProblem De...</td>\n",
       "    </tr>\n",
       "    <tr>\n",
       "      <th>...</th>\n",
       "      <td>...</td>\n",
       "      <td>...</td>\n",
       "    </tr>\n",
       "    <tr>\n",
       "      <th>3987</th>\n",
       "      <td>p04041</td>\n",
       "      <td>Problem Description: Score : 700 points\\nProbl...</td>\n",
       "    </tr>\n",
       "    <tr>\n",
       "      <th>3995</th>\n",
       "      <td>p04049</td>\n",
       "      <td>Problem Description: Score : 600 points\\nProbl...</td>\n",
       "    </tr>\n",
       "    <tr>\n",
       "      <th>3996</th>\n",
       "      <td>p04050</td>\n",
       "      <td>Problem Description: Score : 1000 points\\nProb...</td>\n",
       "    </tr>\n",
       "    <tr>\n",
       "      <th>3997</th>\n",
       "      <td>p04051</td>\n",
       "      <td>Problem Description: Score : 1400 points\\nProb...</td>\n",
       "    </tr>\n",
       "    <tr>\n",
       "      <th>3998</th>\n",
       "      <td>p04052</td>\n",
       "      <td>Problem Description: Score : 2000 points\\nProb...</td>\n",
       "    </tr>\n",
       "  </tbody>\n",
       "</table>\n",
       "<p>1906 rows × 2 columns</p>\n",
       "</div>"
      ],
      "text/plain": [
       "     problem_id                                problem_description\n",
       "23       p00023  Problem Name: Circles Intersection\\nProblem De...\n",
       "26       p00026  Problem Name: Dropping Ink\\nProblem Descriptio...\n",
       "34       p00034  Problem Name: Railway Lines\\nProblem Descripti...\n",
       "35       p00035  Problem Name: Convex?\\nProblem Description: Cr...\n",
       "36       p00036  Problem Name: 2D Shapes on a Plane\\nProblem De...\n",
       "...         ...                                                ...\n",
       "3987     p04041  Problem Description: Score : 700 points\\nProbl...\n",
       "3995     p04049  Problem Description: Score : 600 points\\nProbl...\n",
       "3996     p04050  Problem Description: Score : 1000 points\\nProb...\n",
       "3997     p04051  Problem Description: Score : 1400 points\\nProb...\n",
       "3998     p04052  Problem Description: Score : 2000 points\\nProb...\n",
       "\n",
       "[1906 rows x 2 columns]"
      ]
     },
     "execution_count": 10,
     "metadata": {},
     "output_type": "execute_result"
    }
   ],
   "source": [
    "filtered_df"
   ]
  },
  {
   "cell_type": "code",
   "execution_count": null,
   "metadata": {},
   "outputs": [],
   "source": [
    "# not_avai = problem_desc[problem_desc['problem_id'].isin(uniques)]"
   ]
  },
  {
   "cell_type": "code",
   "execution_count": 11,
   "metadata": {},
   "outputs": [],
   "source": [
    "filtered_df.to_json('/data/tir/projects/tir6/general/swaghjal/nl_prob_desc_per_id_filtered_lt_100.jsonl',orient='records',lines=True)"
   ]
  },
  {
   "cell_type": "code",
   "execution_count": null,
   "metadata": {},
   "outputs": [],
   "source": []
  }
 ],
 "metadata": {
  "kernelspec": {
   "display_name": "venv",
   "language": "python",
   "name": "python3"
  },
  "language_info": {
   "codemirror_mode": {
    "name": "ipython",
    "version": 3
   },
   "file_extension": ".py",
   "mimetype": "text/x-python",
   "name": "python",
   "nbconvert_exporter": "python",
   "pygments_lexer": "ipython3",
   "version": "3.9.18"
  }
 },
 "nbformat": 4,
 "nbformat_minor": 2
}
