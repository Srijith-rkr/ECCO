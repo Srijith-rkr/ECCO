{
 "cells": [
  {
   "cell_type": "code",
   "execution_count": null,
   "metadata": {},
   "outputs": [],
   "source": [
    "import pandas as pd\n",
    "import numpy as np"
   ]
  },
  {
   "cell_type": "code",
   "execution_count": null,
   "metadata": {},
   "outputs": [],
   "source": [
    "# Assuming 'problem_id' is the column you want to filter on\n",
    "generated_data = pd.read_json(r'C:\\Users\\Sid\\Desktop\\Directed Study\\improve-code-efficiency\\Sharable Dataset\\Sharable Dataset\\filtered_running_pairs_codenet_test_new_fix.jsonl', orient='records', lines=True)\n",
    "\n",
    "# Group by 'problem_id' and take one example from each group\n",
    "one_example_per_group = generated_data.groupby('problem_id').apply(lambda x: x.sample(1)).reset_index(drop=True)\n",
    "\n",
    "# Identify the remaining samples (those not included in the one example per group)\n",
    "remaining_samples = generated_data[~generated_data.index.isin(one_example_per_group.index)]\n",
    "\n",
    "# Randomly sample additional examples if needed\n",
    "if len(remaining_samples) > 100 - len(one_example_per_group):\n",
    "    remaining_samples = remaining_samples.sample(100 - len(one_example_per_group))\n",
    "\n",
    "# Concatenate the one example per group with the randomly sampled examples\n",
    "final_sample = pd.concat([one_example_per_group, remaining_samples]).reset_index(drop=True)\n",
    "\n",
    "# Display the final sampled data\n",
    "print(final_sample)\n",
    "\n",
    "final_sample.json_data.to_json(f'high_quality_data_{len(final_sample)}.jsonl', orient='records', lines=True)"
   ]
  }
 ],
 "metadata": {
  "language_info": {
   "name": "python"
  }
 },
 "nbformat": 4,
 "nbformat_minor": 2
}
